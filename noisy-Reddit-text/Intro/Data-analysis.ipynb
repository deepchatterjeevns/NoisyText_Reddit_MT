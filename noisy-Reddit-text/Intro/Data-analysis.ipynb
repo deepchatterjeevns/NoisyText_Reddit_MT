{
 "cells": [
  {
   "cell_type": "code",
   "execution_count": 10,
   "metadata": {},
   "outputs": [],
   "source": [
    "import os"
   ]
  },
  {
   "cell_type": "code",
   "execution_count": 11,
   "metadata": {},
   "outputs": [],
   "source": [
    "path = \"./data/MTNT/\""
   ]
  },
  {
   "cell_type": "code",
   "execution_count": 13,
   "metadata": {},
   "outputs": [],
   "source": [
    "train_data = [path + 'train/' + file for file in os.listdir(path + 'train/')]\n",
    "valid_data = [path + 'valid/' + file for file in os.listdir(path + 'valid/')]\n",
    "test_data = [path + 'test/' + file for file in os.listdir(path + 'test/')]"
   ]
  },
  {
   "cell_type": "code",
   "execution_count": 46,
   "metadata": {},
   "outputs": [],
   "source": [
    "def file_analysis(data):\n",
    "    for filename in data:\n",
    "        name= filename.split(\"/\")[-1]\n",
    "        if name != \".DS_Store\":\n",
    "            count = 0\n",
    "            with open(filename, encoding=\"utf-8\") as f:\n",
    "\n",
    "                for sentence in f:\n",
    "                    count += 1\n",
    "            print(\"training data length\",name, count)\n",
    "            "
   ]
  },
  {
   "cell_type": "code",
   "execution_count": 47,
   "metadata": {},
   "outputs": [
    {
     "name": "stdout",
     "output_type": "stream",
     "text": [
      "training data length train.en-fr.tsv 36058\n",
      "training data length train.fr-en.tsv 19161\n"
     ]
    }
   ],
   "source": [
    "file_analysis(train_data)"
   ]
  },
  {
   "cell_type": "code",
   "execution_count": 48,
   "metadata": {},
   "outputs": [
    {
     "name": "stdout",
     "output_type": "stream",
     "text": [
      "training data length valid.fr-en.tsv 886\n",
      "training data length valid.en-fr.tsv 852\n"
     ]
    }
   ],
   "source": [
    "file_analysis(valid_data)"
   ]
  },
  {
   "cell_type": "code",
   "execution_count": 49,
   "metadata": {},
   "outputs": [
    {
     "name": "stdout",
     "output_type": "stream",
     "text": [
      "training data length test.fr-en.tsv 1022\n",
      "training data length test.en-fr.tsv 1020\n"
     ]
    }
   ],
   "source": [
    "file_analysis(test_data)"
   ]
  },
  {
   "cell_type": "code",
   "execution_count": null,
   "metadata": {},
   "outputs": [],
   "source": []
  }
 ],
 "metadata": {
  "kernelspec": {
   "display_name": "Python 3",
   "language": "python",
   "name": "python3"
  },
  "language_info": {
   "codemirror_mode": {
    "name": "ipython",
    "version": 3
   },
   "file_extension": ".py",
   "mimetype": "text/x-python",
   "name": "python",
   "nbconvert_exporter": "python",
   "pygments_lexer": "ipython3",
   "version": "3.7.6"
  }
 },
 "nbformat": 4,
 "nbformat_minor": 4
}
